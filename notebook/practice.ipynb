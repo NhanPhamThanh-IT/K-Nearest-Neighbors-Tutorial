{
 "cells": [
  {
   "cell_type": "markdown",
   "id": "af8dc5ae",
   "metadata": {},
   "source": [
    "### __Gọi các thư viện cần thiết__"
   ]
  },
  {
   "cell_type": "code",
   "execution_count": 1,
   "id": "a9834695",
   "metadata": {},
   "outputs": [],
   "source": [
    "import pandas as pd\n",
    "\n",
    "from utils import HelperFunctions"
   ]
  },
  {
   "cell_type": "markdown",
   "id": "a0fec25d",
   "metadata": {},
   "source": [
    "### __Khởi tạo tập dữ liệu__"
   ]
  },
  {
   "cell_type": "code",
   "execution_count": 2,
   "id": "cb2f3051",
   "metadata": {},
   "outputs": [],
   "source": [
    "study_hours = [2, 3, 5, 6, 4]\n",
    "sleep_hours = [8, 7, 6, 5, 6]\n",
    "results = ['Failed', 'Failed', 'Pass', 'Pass', 'Pass']\n",
    "grades = [4.5, 5.5, 7.5, 8.5, 7.0]\n",
    "\n",
    "data = {\n",
    "    'Study Hours': study_hours,\n",
    "    'Sleep Hours': sleep_hours,\n",
    "    'Results': results,\n",
    "    'Grades': grades\n",
    "}\n",
    "\n",
    "df = pd.DataFrame(data)"
   ]
  },
  {
   "cell_type": "code",
   "execution_count": 3,
   "id": "88793cd9",
   "metadata": {},
   "outputs": [
    {
     "data": {
      "text/html": [
       "<div>\n",
       "<style scoped>\n",
       "    .dataframe tbody tr th:only-of-type {\n",
       "        vertical-align: middle;\n",
       "    }\n",
       "\n",
       "    .dataframe tbody tr th {\n",
       "        vertical-align: top;\n",
       "    }\n",
       "\n",
       "    .dataframe thead th {\n",
       "        text-align: right;\n",
       "    }\n",
       "</style>\n",
       "<table border=\"1\" class=\"dataframe\">\n",
       "  <thead>\n",
       "    <tr style=\"text-align: right;\">\n",
       "      <th></th>\n",
       "      <th>Study Hours</th>\n",
       "      <th>Sleep Hours</th>\n",
       "      <th>Results</th>\n",
       "      <th>Grades</th>\n",
       "    </tr>\n",
       "  </thead>\n",
       "  <tbody>\n",
       "    <tr>\n",
       "      <th>0</th>\n",
       "      <td>2</td>\n",
       "      <td>8</td>\n",
       "      <td>Failed</td>\n",
       "      <td>4.5</td>\n",
       "    </tr>\n",
       "    <tr>\n",
       "      <th>1</th>\n",
       "      <td>3</td>\n",
       "      <td>7</td>\n",
       "      <td>Failed</td>\n",
       "      <td>5.5</td>\n",
       "    </tr>\n",
       "    <tr>\n",
       "      <th>2</th>\n",
       "      <td>5</td>\n",
       "      <td>6</td>\n",
       "      <td>Pass</td>\n",
       "      <td>7.5</td>\n",
       "    </tr>\n",
       "    <tr>\n",
       "      <th>3</th>\n",
       "      <td>6</td>\n",
       "      <td>5</td>\n",
       "      <td>Pass</td>\n",
       "      <td>8.5</td>\n",
       "    </tr>\n",
       "    <tr>\n",
       "      <th>4</th>\n",
       "      <td>4</td>\n",
       "      <td>6</td>\n",
       "      <td>Pass</td>\n",
       "      <td>7.0</td>\n",
       "    </tr>\n",
       "  </tbody>\n",
       "</table>\n",
       "</div>"
      ],
      "text/plain": [
       "   Study Hours  Sleep Hours Results  Grades\n",
       "0            2            8  Failed     4.5\n",
       "1            3            7  Failed     5.5\n",
       "2            5            6    Pass     7.5\n",
       "3            6            5    Pass     8.5\n",
       "4            4            6    Pass     7.0"
      ]
     },
     "execution_count": 3,
     "metadata": {},
     "output_type": "execute_result"
    }
   ],
   "source": [
    "df"
   ]
  },
  {
   "cell_type": "code",
   "execution_count": 4,
   "id": "0ab01372",
   "metadata": {},
   "outputs": [
    {
     "data": {
      "image/png": "[encoded data removed]",
      "text/plain": [
       "<Figure size 640x480 with 1 Axes>"
      ]
     },
     "metadata": {},
     "output_type": "display_data"
    }
   ],
   "source": [
    "HelperFunctions.drawScatterPlot(\n",
    "    x = df['Study Hours'],\n",
    "    y = df['Sleep Hours'],\n",
    "    xlabel = 'Study Hours',\n",
    "    ylabel = 'Sleep Hours',\n",
    "    title = 'Study vs Sleep'\n",
    ")"
   ]
  },
  {
   "cell_type": "code",
   "execution_count": 5,
   "id": "b51b25a5",
   "metadata": {},
   "outputs": [],
   "source": [
    "study_hour, sleep_hour = 4, 7"
   ]
  },
  {
   "cell_type": "markdown",
   "id": "8272a976",
   "metadata": {},
   "source": [
    "### __<span style=\"color: red\">Bước 1:</span> Lựa chọn siêu tham số k__"
   ]
  },
  {
   "cell_type": "markdown",
   "id": "91b3cdf5",
   "metadata": {},
   "source": [
    "<div align=\"justify\">\n",
    "\n",
    "Với tập dữ liệu trên, việc chọn `k = 1` có thể quá nhạy cảm, trong khi chọn `k = 5` sẽ lấy tất cả các điểm. Do đó, lựa chọn hợp lý là `k = 3`. `k = 3` sẽ giúp cho chúng ta tránh được trường hợp hòa phiếu giữa 2 lớp `Pass` và `Failed` trong bài toán phân loại.\n",
    "\n",
    "<div align=\"center\">\n",
    "\n",
    "__Lựa chọn:__ `k = 3`\n",
    "\n",
    "</div>\n",
    "\n",
    "</div>"
   ]
  },
  {
   "cell_type": "code",
   "execution_count": 6,
   "id": "d5ef9b8a",
   "metadata": {},
   "outputs": [],
   "source": [
    "k = 3"
   ]
  },
  {
   "cell_type": "markdown",
   "id": "d9c16a86",
   "metadata": {},
   "source": [
    "### __<span style=\"color: red\">Bước 2:</span> Tính khoảng cách__"
   ]
  },
  {
   "cell_type": "markdown",
   "id": "de34a4fc",
   "metadata": {},
   "source": [
    "<div align=\"justify\">\n",
    "\n",
    "__Lựa chọn thước đo khoảng cách:__ Chúng ta sẽ sử dụng thước đo phổ biến nhất là _Khoảng cách Euclidean (L2)_\n",
    "\n",
    "__Lưu ý về chuẩn hóa dữ liệu:__ Chuẩn hóa dữ liệu là một bước cực kỳ quan trọng. Tuy nhiên, với tập dữ liệu trên, đơn vị của 2 đặc trưng đều là giờ, nên sẽ tạm thời bỏ qua bước chuẩn hóa.\n",
    "\n",
    "</div>"
   ]
  },
  {
   "cell_type": "code",
   "execution_count": 7,
   "id": "390bc9ca",
   "metadata": {},
   "outputs": [],
   "source": [
    "df['Distance'] = df.apply(lambda row: HelperFunctions.calculateL2Distance([row['Study Hours'], row['Sleep Hours']], [study_hour, sleep_hour]), axis=1)"
   ]
  },
  {
   "cell_type": "code",
   "execution_count": 8,
   "id": "56c9b964",
   "metadata": {},
   "outputs": [
    {
     "data": {
      "text/html": [
       "<div>\n",
       "<style scoped>\n",
       "    .dataframe tbody tr th:only-of-type {\n",
       "        vertical-align: middle;\n",
       "    }\n",
       "\n",
       "    .dataframe tbody tr th {\n",
       "        vertical-align: top;\n",
       "    }\n",
       "\n",
       "    .dataframe thead th {\n",
       "        text-align: right;\n",
       "    }\n",
       "</style>\n",
       "<table border=\"1\" class=\"dataframe\">\n",
       "  <thead>\n",
       "    <tr style=\"text-align: right;\">\n",
       "      <th></th>\n",
       "      <th>Study Hours</th>\n",
       "      <th>Sleep Hours</th>\n",
       "      <th>Results</th>\n",
       "      <th>Grades</th>\n",
       "      <th>Distance</th>\n",
       "    </tr>\n",
       "  </thead>\n",
       "  <tbody>\n",
       "    <tr>\n",
       "      <th>0</th>\n",
       "      <td>2</td>\n",
       "      <td>8</td>\n",
       "      <td>Failed</td>\n",
       "      <td>4.5</td>\n",
       "      <td>2.236068</td>\n",
       "    </tr>\n",
       "    <tr>\n",
       "      <th>1</th>\n",
       "      <td>3</td>\n",
       "      <td>7</td>\n",
       "      <td>Failed</td>\n",
       "      <td>5.5</td>\n",
       "      <td>1.000000</td>\n",
       "    </tr>\n",
       "    <tr>\n",
       "      <th>2</th>\n",
       "      <td>5</td>\n",
       "      <td>6</td>\n",
       "      <td>Pass</td>\n",
       "      <td>7.5</td>\n",
       "      <td>1.414214</td>\n",
       "    </tr>\n",
       "    <tr>\n",
       "      <th>3</th>\n",
       "      <td>6</td>\n",
       "      <td>5</td>\n",
       "      <td>Pass</td>\n",
       "      <td>8.5</td>\n",
       "      <td>2.828427</td>\n",
       "    </tr>\n",
       "    <tr>\n",
       "      <th>4</th>\n",
       "      <td>4</td>\n",
       "      <td>6</td>\n",
       "      <td>Pass</td>\n",
       "      <td>7.0</td>\n",
       "      <td>1.000000</td>\n",
       "    </tr>\n",
       "  </tbody>\n",
       "</table>\n",
       "</div>"
      ],
      "text/plain": [
       "   Study Hours  Sleep Hours Results  Grades  Distance\n",
       "0            2            8  Failed     4.5  2.236068\n",
       "1            3            7  Failed     5.5  1.000000\n",
       "2            5            6    Pass     7.5  1.414214\n",
       "3            6            5    Pass     8.5  2.828427\n",
       "4            4            6    Pass     7.0  1.000000"
      ]
     },
     "execution_count": 8,
     "metadata": {},
     "output_type": "execute_result"
    }
   ],
   "source": [
    "df"
   ]
  },
  {
   "cell_type": "markdown",
   "id": "b13bbe4a",
   "metadata": {},
   "source": [
    "### __<span style=\"color: red\">Bước 3:</span> Tìm k láng giềng gần nhất__"
   ]
  },
  {
   "cell_type": "code",
   "execution_count": 9,
   "id": "d88ea778",
   "metadata": {},
   "outputs": [],
   "source": [
    "df_sorted = df.sort_values(by='Distance')\n",
    "df = df_sorted[0:k]"
   ]
  },
  {
   "cell_type": "code",
   "execution_count": 10,
   "id": "cdf90b9c",
   "metadata": {},
   "outputs": [
    {
     "data": {
      "text/html": [
       "<div>\n",
       "<style scoped>\n",
       "    .dataframe tbody tr th:only-of-type {\n",
       "        vertical-align: middle;\n",
       "    }\n",
       "\n",
       "    .dataframe tbody tr th {\n",
       "        vertical-align: top;\n",
       "    }\n",
       "\n",
       "    .dataframe thead th {\n",
       "        text-align: right;\n",
       "    }\n",
       "</style>\n",
       "<table border=\"1\" class=\"dataframe\">\n",
       "  <thead>\n",
       "    <tr style=\"text-align: right;\">\n",
       "      <th></th>\n",
       "      <th>Study Hours</th>\n",
       "      <th>Sleep Hours</th>\n",
       "      <th>Results</th>\n",
       "      <th>Grades</th>\n",
       "      <th>Distance</th>\n",
       "    </tr>\n",
       "  </thead>\n",
       "  <tbody>\n",
       "    <tr>\n",
       "      <th>1</th>\n",
       "      <td>3</td>\n",
       "      <td>7</td>\n",
       "      <td>Failed</td>\n",
       "      <td>5.5</td>\n",
       "      <td>1.000000</td>\n",
       "    </tr>\n",
       "    <tr>\n",
       "      <th>4</th>\n",
       "      <td>4</td>\n",
       "      <td>6</td>\n",
       "      <td>Pass</td>\n",
       "      <td>7.0</td>\n",
       "      <td>1.000000</td>\n",
       "    </tr>\n",
       "    <tr>\n",
       "      <th>2</th>\n",
       "      <td>5</td>\n",
       "      <td>6</td>\n",
       "      <td>Pass</td>\n",
       "      <td>7.5</td>\n",
       "      <td>1.414214</td>\n",
       "    </tr>\n",
       "  </tbody>\n",
       "</table>\n",
       "</div>"
      ],
      "text/plain": [
       "   Study Hours  Sleep Hours Results  Grades  Distance\n",
       "1            3            7  Failed     5.5  1.000000\n",
       "4            4            6    Pass     7.0  1.000000\n",
       "2            5            6    Pass     7.5  1.414214"
      ]
     },
     "execution_count": 10,
     "metadata": {},
     "output_type": "execute_result"
    }
   ],
   "source": [
    "df"
   ]
  },
  {
   "cell_type": "markdown",
   "id": "42f246ae",
   "metadata": {},
   "source": [
    "### __<span style=\"color: red\">Bước 4:</span> Ra quyết định - Dự đoán kết quả__"
   ]
  },
  {
   "cell_type": "markdown",
   "id": "ce894ffa",
   "metadata": {},
   "source": [
    "#### __Dự đoán cho bài toán phân loại__"
   ]
  },
  {
   "cell_type": "code",
   "execution_count": 11,
   "id": "0452a682",
   "metadata": {},
   "outputs": [],
   "source": [
    "result = HelperFunctions.predictionClassification(df, 'Results')"
   ]
  },
  {
   "cell_type": "code",
   "execution_count": 12,
   "id": "bfd13985",
   "metadata": {},
   "outputs": [
    {
     "name": "stdout",
     "output_type": "stream",
     "text": [
      "Predicted class for the given features is: Pass\n"
     ]
    }
   ],
   "source": [
    "print(\"Predicted class for the given features is:\", result)"
   ]
  },
  {
   "cell_type": "markdown",
   "id": "94a3f470",
   "metadata": {},
   "source": [
    "#### __Dự đoán cho bài toán hồi quy__"
   ]
  },
  {
   "cell_type": "code",
   "execution_count": 13,
   "id": "2877eb1a",
   "metadata": {},
   "outputs": [],
   "source": [
    "averaging = HelperFunctions.predictionRegression(df, 'Grades', 'Distance')"
   ]
  },
  {
   "cell_type": "code",
   "execution_count": 14,
   "id": "adca0026",
   "metadata": {},
   "outputs": [
    {
     "name": "stdout",
     "output_type": "stream",
     "text": [
      "Predicted average grade for the given features is: 6.666666666666667\n"
     ]
    }
   ],
   "source": [
    "print(\"Predicted average grade for the given features is:\", averaging)"
   ]
  },
  {
   "cell_type": "code",
   "execution_count": 15,
   "id": "13dec7e4",
   "metadata": {},
   "outputs": [],
   "source": [
    "weightAveraging = HelperFunctions.predictionRegression(df, 'Grades', 'Distance', weight=True)"
   ]
  },
  {
   "cell_type": "code",
   "execution_count": 16,
   "id": "b30a0976",
   "metadata": {},
   "outputs": [
    {
     "name": "stdout",
     "output_type": "stream",
     "text": [
      "Predicted average grade for the given features is: 6.576504843704677\n"
     ]
    }
   ],
   "source": [
    "print(\"Predicted average grade for the given features is:\", weightAveraging)"
   ]
  }
 ],
 "metadata": {
  "kernelspec": {
   "display_name": "Python (tensorflow_env)",
   "language": "python",
   "name": "tensorflow_env"
  },
  "language_info": {
   "codemirror_mode": {
    "name": "ipython",
    "version": 3
   },
   "file_extension": ".py",
   "mimetype": "text/x-python",
   "name": "python",
   "nbconvert_exporter": "python",
   "pygments_lexer": "ipython3",
   "version": "3.11.9"
  }
 },
 "nbformat": 4,
 "nbformat_minor": 5
}
