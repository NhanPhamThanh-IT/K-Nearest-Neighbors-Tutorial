{
 "cells": [
  {
   "cell_type": "markdown",
   "id": "af8dc5ae",
   "metadata": {},
   "source": [
    "### __Gọi các thư viện cần thiết__"
   ]
  },
  {
   "cell_type": "code",
   "execution_count": 2,
   "id": "a9834695",
   "metadata": {},
   "outputs": [],
   "source": [
    "import pandas as pd"
   ]
  },
  {
   "cell_type": "markdown",
   "id": "a0fec25d",
   "metadata": {},
   "source": [
    "### __Khởi tạo tập dữ liệu__"
   ]
  },
  {
   "cell_type": "code",
   "execution_count": 3,
   "id": "cb2f3051",
   "metadata": {},
   "outputs": [],
   "source": [
    "study_hours = [2, 3, 5, 6, 4]\n",
    "sleep_hours = [8, 7, 6, 5, 6]\n",
    "results = ['Failed', 'Failed', 'Pass', 'Pass', 'Pass']\n",
    "grades = [4.5, 5.5, 7.5, 8.5, 7.0]\n",
    "\n",
    "data = {\n",
    "    'Study Hours': study_hours,\n",
    "    'Sleep Hours': sleep_hours,\n",
    "    'Results': results,\n",
    "    'Grades': grades\n",
    "}\n",
    "\n",
    "df = pd.DataFrame(data)"
   ]
  },
  {
   "cell_type": "code",
   "execution_count": 4,
   "id": "88793cd9",
   "metadata": {},
   "outputs": [
    {
     "data": {
      "text/html": [
       "<div>\n",
       "<style scoped>\n",
       "    .dataframe tbody tr th:only-of-type {\n",
       "        vertical-align: middle;\n",
       "    }\n",
       "\n",
       "    .dataframe tbody tr th {\n",
       "        vertical-align: top;\n",
       "    }\n",
       "\n",
       "    .dataframe thead th {\n",
       "        text-align: right;\n",
       "    }\n",
       "</style>\n",
       "<table border=\"1\" class=\"dataframe\">\n",
       "  <thead>\n",
       "    <tr style=\"text-align: right;\">\n",
       "      <th></th>\n",
       "      <th>Study Hours</th>\n",
       "      <th>Sleep Hours</th>\n",
       "      <th>Results</th>\n",
       "      <th>Grades</th>\n",
       "    </tr>\n",
       "  </thead>\n",
       "  <tbody>\n",
       "    <tr>\n",
       "      <th>0</th>\n",
       "      <td>2</td>\n",
       "      <td>8</td>\n",
       "      <td>Failed</td>\n",
       "      <td>4.5</td>\n",
       "    </tr>\n",
       "    <tr>\n",
       "      <th>1</th>\n",
       "      <td>3</td>\n",
       "      <td>7</td>\n",
       "      <td>Failed</td>\n",
       "      <td>5.5</td>\n",
       "    </tr>\n",
       "    <tr>\n",
       "      <th>2</th>\n",
       "      <td>5</td>\n",
       "      <td>6</td>\n",
       "      <td>Pass</td>\n",
       "      <td>7.5</td>\n",
       "    </tr>\n",
       "    <tr>\n",
       "      <th>3</th>\n",
       "      <td>6</td>\n",
       "      <td>5</td>\n",
       "      <td>Pass</td>\n",
       "      <td>8.5</td>\n",
       "    </tr>\n",
       "    <tr>\n",
       "      <th>4</th>\n",
       "      <td>4</td>\n",
       "      <td>6</td>\n",
       "      <td>Pass</td>\n",
       "      <td>7.0</td>\n",
       "    </tr>\n",
       "  </tbody>\n",
       "</table>\n",
       "</div>"
      ],
      "text/plain": [
       "   Study Hours  Sleep Hours Results  Grades\n",
       "0            2            8  Failed     4.5\n",
       "1            3            7  Failed     5.5\n",
       "2            5            6    Pass     7.5\n",
       "3            6            5    Pass     8.5\n",
       "4            4            6    Pass     7.0"
      ]
     },
     "execution_count": 4,
     "metadata": {},
     "output_type": "execute_result"
    }
   ],
   "source": [
    "df"
   ]
  },
  {
   "cell_type": "markdown",
   "id": "8272a976",
   "metadata": {},
   "source": [
    "### __<span style=\"color: red\">Bước 1:</span> Lựa chọn siêu tham số k__"
   ]
  }
 ],
 "metadata": {
  "kernelspec": {
   "display_name": "Python (tensorflow_env)",
   "language": "python",
   "name": "tensorflow_env"
  },
  "language_info": {
   "codemirror_mode": {
    "name": "ipython",
    "version": 3
   },
   "file_extension": ".py",
   "mimetype": "text/x-python",
   "name": "python",
   "nbconvert_exporter": "python",
   "pygments_lexer": "ipython3",
   "version": "3.11.9"
  }
 },
 "nbformat": 4,
 "nbformat_minor": 5
}
